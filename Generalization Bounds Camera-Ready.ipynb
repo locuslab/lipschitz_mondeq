{
 "cells": [
  {
   "cell_type": "code",
   "execution_count": 1,
   "metadata": {},
   "outputs": [],
   "source": [
    "import torch\n",
    "import numpy as np\n",
    "import sys\n",
    "\n",
    "sys.path.append(\"monotone_op_net\")\n",
    "import train\n",
    "import splitting as sp"
   ]
  },
  {
   "cell_type": "markdown",
   "metadata": {},
   "source": [
    "<h2> Generalization bound for FC monDEQ model"
   ]
  },
  {
   "cell_type": "code",
   "execution_count": 2,
   "metadata": {},
   "outputs": [
    {
     "data": {
      "text/plain": [
       "SingleFcNet(\n",
       "  (mon): MONPeacemanRachford(\n",
       "    (linear_module): MONSingleFc(\n",
       "      (U): Linear(in_features=784, out_features=40, bias=True)\n",
       "      (A): Linear(in_features=40, out_features=40, bias=False)\n",
       "      (B): Linear(in_features=40, out_features=40, bias=False)\n",
       "    )\n",
       "    (nonlin_module): MONReLU()\n",
       "  )\n",
       "  (Wout): Linear(in_features=40, out_features=10, bias=True)\n",
       ")"
      ]
     },
     "execution_count": 2,
     "metadata": {},
     "output_type": "execute_result"
    }
   ],
   "source": [
    "# Instantiate and load FC monDEQ model\n",
    "m = 20\n",
    "h = 40\n",
    "model = train.SingleFcNet(sp.MONPeacemanRachford,\n",
    "                        in_dim=28**2,\n",
    "                        out_dim=40,\n",
    "                        alpha=1.,\n",
    "                        max_iter=300,\n",
    "                        tol=1e-3,\n",
    "                        m=m)\n",
    "model.load_state_dict(torch.load(\"models/mon_h40_m20.0.pt\", map_location=torch.device('cpu')))\n",
    "model.eval()"
   ]
  },
  {
   "cell_type": "code",
   "execution_count": 7,
   "metadata": {},
   "outputs": [],
   "source": [
    "def n(t):\n",
    "    if isinstance(t, torch.Tensor):\n",
    "        return float(t.cpu().detach().numpy())\n",
    "    else:\n",
    "        return t\n",
    "\n",
    "def bound_term_2(h, c, beta, B, m, W_norm_sum, M, gamma, delta):\n",
    "    cp, cm = c + 1, c - 1\n",
    "    c2 = gamma / 4 / beta\n",
    "    inner = 2 * beta ** 3 * cp ** 3 * (1 + c2) * (B + 1) + 2 * m * beta * cp * (B + 1) * cm ** 2 + m ** 2 * cm ** 3\n",
    "    num = 16 * h * np.log(24 * h) * inner ** 2\n",
    "    num_1 = num * W_norm_sum / (gamma ** 2 * m ** 4 * cm ** 6 * (M - 1))\n",
    "    num_2 = np.log(3 * M ** 1.5 / c / delta)\n",
    "    return 4 * torch.sqrt(num_1 + num_2 / (M - 1))\n",
    "\n",
    "\n",
    "def monW(model):\n",
    "    lin_mod = model.mon.linear_module\n",
    "    m = lin_mod.m\n",
    "    A = lin_mod.A.weight\n",
    "    B = lin_mod.B.weight\n",
    "    W = (1 - m) * cuda(torch.eye(A.shape[1])) - A.T @ A + B - B.T\n",
    "    return W\n",
    "\n",
    "def W_norm_sum(model, W_init):\n",
    "    A = model.mon.linear_module.A.weight\n",
    "    B = model.mon.linear_module.B.weight\n",
    "    U = model.mon.linear_module.U.weight - W_init['U']\n",
    "    b = model.mon.linear_module.U.bias - W_init['b']\n",
    "    Wo = model.Wout.weight - W_init['Wo']\n",
    "    bo = model.Wout.bias - W_init['bo']\n",
    "    print(\"F_norms\\n\\t\", [n(torch.norm(x) ** 2) for x in [A, B, U, b, Wo, bo]])\n",
    "    return sum([torch.norm(x) ** 2 for x in [A, B, U, b, Wo, bo]])\n",
    "\n",
    "def beta(model):\n",
    "    lin_mod = model.mon.linear_module\n",
    "    U = lin_mod.U.weight\n",
    "    b = lin_mod.U.bias\n",
    "    Wo = model.Wout.weight\n",
    "    bo = model.Wout.bias\n",
    "    A = model.mon.linear_module.A.weight\n",
    "    B = model.mon.linear_module.B.weight\n",
    "    try:\n",
    "        norms = [torch.norm(b),\n",
    "                 # torch.norm(bo),\n",
    "                 torch.max(torch.svd(U)[1]),\n",
    "                 torch.max(torch.svd(Wo)[1]),\n",
    "                 torch.max(torch.svd(A)[1]),\n",
    "        ]\n",
    "        print(\"l2_norms\\n\\t\", [n(norm) for norm in norms])\n",
    "        return max(norms)\n",
    "    except:\n",
    "        return 0"
   ]
  },
  {
   "cell_type": "code",
   "execution_count": 12,
   "metadata": {},
   "outputs": [
    {
     "name": "stdout",
     "output_type": "stream",
     "text": [
      "F_norms\n",
      "\t [55.68635177612305, 47.7231330871582, 1747.61279296875, 0.3111502230167389, 110.89112091064453, 0.13506852090358734]\n",
      "W_norm_sum: 1962.3594970703125\n",
      "l2_norms\n",
      "\t [0.5578083992004395, 15.990426063537598, 4.798660755157471, 5.0687079429626465]\n",
      "beta: 15.990426063537598\n",
      "bound term 2: 23623.228515625\n"
     ]
    }
   ],
   "source": [
    "M = 4096\n",
    "gamma=10\n",
    "delta=0.1\n",
    "c=.0001\n",
    "B=50\n",
    "W_init={k:0 for k in ['W','Wo','b','bo','U']}\n",
    "lin_mod = model.mon.linear_module\n",
    "W_norm_sum_val = W_norm_sum(model, W_init)\n",
    "print(\"W_norm_sum:\", n(W_norm_sum_val))\n",
    "beta_val = beta(model)\n",
    "print(\"beta:\", n(beta_val))\n",
    "b = bound_term_2(h, c, beta_val, B, m, W_norm_sum_val, M, gamma, delta)\n",
    "print(\"bound term 2:\", n(b))            "
   ]
  },
  {
   "cell_type": "code",
   "execution_count": null,
   "metadata": {},
   "outputs": [],
   "source": []
  }
 ],
 "metadata": {
  "kernelspec": {
   "display_name": "Python 3",
   "language": "python",
   "name": "python3"
  },
  "language_info": {
   "codemirror_mode": {
    "name": "ipython",
    "version": 3
   },
   "file_extension": ".py",
   "mimetype": "text/x-python",
   "name": "python",
   "nbconvert_exporter": "python",
   "pygments_lexer": "ipython3",
   "version": "3.9.1"
  }
 },
 "nbformat": 4,
 "nbformat_minor": 4
}