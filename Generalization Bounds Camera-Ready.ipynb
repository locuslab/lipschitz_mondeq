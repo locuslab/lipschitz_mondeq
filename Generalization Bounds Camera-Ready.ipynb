{
 "cells": [
  {
   "cell_type": "code",
   "execution_count": 7,
   "metadata": {},
   "outputs": [],
   "source": [
    "import torch\n",
    "import torch.nn as nn\n",
    "import numpy as np\n",
    "import sys\n",
    "\n",
    "sys.path.append(\"monotone_op_net\")\n",
    "import train\n",
    "import splitting as sp\n",
    "import mon"
   ]
  },
  {
   "cell_type": "markdown",
   "metadata": {},
   "source": [
    "<h2> Generalization bound for FC monDEQ model"
   ]
  },
  {
   "cell_type": "code",
   "execution_count": 8,
   "metadata": {},
   "outputs": [
    {
     "ename": "FileNotFoundError",
     "evalue": "[Errno 2] No such file or directory: 'data/gen_bounds/9-17/mon_m20_d0_1.pt'",
     "output_type": "error",
     "traceback": [
      "\u001B[0;31m---------------------------------------------------------------------------\u001B[0m",
      "\u001B[0;31mFileNotFoundError\u001B[0m                         Traceback (most recent call last)",
      "\u001B[0;32m<ipython-input-8-c00b686144f7>\u001B[0m in \u001B[0;36m<module>\u001B[0;34m\u001B[0m\n\u001B[1;32m      9\u001B[0m                         \u001B[0mtol\u001B[0m\u001B[0;34m=\u001B[0m\u001B[0;36m1e-3\u001B[0m\u001B[0;34m,\u001B[0m\u001B[0;34m\u001B[0m\u001B[0;34m\u001B[0m\u001B[0m\n\u001B[1;32m     10\u001B[0m                         m=m)\n\u001B[0;32m---> 11\u001B[0;31m \u001B[0mmodel\u001B[0m\u001B[0;34m.\u001B[0m\u001B[0mload_state_dict\u001B[0m\u001B[0;34m(\u001B[0m\u001B[0mtorch\u001B[0m\u001B[0;34m.\u001B[0m\u001B[0mload\u001B[0m\u001B[0;34m(\u001B[0m\u001B[0;34m'data/gen_bounds/9-17/mon_m20_d0_1.pt'\u001B[0m\u001B[0;34m,\u001B[0m \u001B[0mmap_location\u001B[0m\u001B[0;34m=\u001B[0m\u001B[0mtorch\u001B[0m\u001B[0;34m.\u001B[0m\u001B[0mdevice\u001B[0m\u001B[0;34m(\u001B[0m\u001B[0;34m'cpu'\u001B[0m\u001B[0;34m)\u001B[0m\u001B[0;34m)\u001B[0m\u001B[0;34m)\u001B[0m\u001B[0;34m\u001B[0m\u001B[0;34m\u001B[0m\u001B[0m\n\u001B[0m\u001B[1;32m     12\u001B[0m \u001B[0mmodel\u001B[0m\u001B[0;34m.\u001B[0m\u001B[0meval\u001B[0m\u001B[0;34m(\u001B[0m\u001B[0;34m)\u001B[0m\u001B[0;34m\u001B[0m\u001B[0;34m\u001B[0m\u001B[0m\n",
      "\u001B[0;32m/usr/local/lib/python3.9/site-packages/torch/serialization.py\u001B[0m in \u001B[0;36mload\u001B[0;34m(f, map_location, pickle_module, **pickle_load_args)\u001B[0m\n\u001B[1;32m    577\u001B[0m         \u001B[0mpickle_load_args\u001B[0m\u001B[0;34m[\u001B[0m\u001B[0;34m'encoding'\u001B[0m\u001B[0;34m]\u001B[0m \u001B[0;34m=\u001B[0m \u001B[0;34m'utf-8'\u001B[0m\u001B[0;34m\u001B[0m\u001B[0;34m\u001B[0m\u001B[0m\n\u001B[1;32m    578\u001B[0m \u001B[0;34m\u001B[0m\u001B[0m\n\u001B[0;32m--> 579\u001B[0;31m     \u001B[0;32mwith\u001B[0m \u001B[0m_open_file_like\u001B[0m\u001B[0;34m(\u001B[0m\u001B[0mf\u001B[0m\u001B[0;34m,\u001B[0m \u001B[0;34m'rb'\u001B[0m\u001B[0;34m)\u001B[0m \u001B[0;32mas\u001B[0m \u001B[0mopened_file\u001B[0m\u001B[0;34m:\u001B[0m\u001B[0;34m\u001B[0m\u001B[0;34m\u001B[0m\u001B[0m\n\u001B[0m\u001B[1;32m    580\u001B[0m         \u001B[0;32mif\u001B[0m \u001B[0m_is_zipfile\u001B[0m\u001B[0;34m(\u001B[0m\u001B[0mopened_file\u001B[0m\u001B[0;34m)\u001B[0m\u001B[0;34m:\u001B[0m\u001B[0;34m\u001B[0m\u001B[0;34m\u001B[0m\u001B[0m\n\u001B[1;32m    581\u001B[0m             \u001B[0;31m# The zipfile reader is going to advance the current file position.\u001B[0m\u001B[0;34m\u001B[0m\u001B[0;34m\u001B[0m\u001B[0;34m\u001B[0m\u001B[0m\n",
      "\u001B[0;32m/usr/local/lib/python3.9/site-packages/torch/serialization.py\u001B[0m in \u001B[0;36m_open_file_like\u001B[0;34m(name_or_buffer, mode)\u001B[0m\n\u001B[1;32m    228\u001B[0m \u001B[0;32mdef\u001B[0m \u001B[0m_open_file_like\u001B[0m\u001B[0;34m(\u001B[0m\u001B[0mname_or_buffer\u001B[0m\u001B[0;34m,\u001B[0m \u001B[0mmode\u001B[0m\u001B[0;34m)\u001B[0m\u001B[0;34m:\u001B[0m\u001B[0;34m\u001B[0m\u001B[0;34m\u001B[0m\u001B[0m\n\u001B[1;32m    229\u001B[0m     \u001B[0;32mif\u001B[0m \u001B[0m_is_path\u001B[0m\u001B[0;34m(\u001B[0m\u001B[0mname_or_buffer\u001B[0m\u001B[0;34m)\u001B[0m\u001B[0;34m:\u001B[0m\u001B[0;34m\u001B[0m\u001B[0;34m\u001B[0m\u001B[0m\n\u001B[0;32m--> 230\u001B[0;31m         \u001B[0;32mreturn\u001B[0m \u001B[0m_open_file\u001B[0m\u001B[0;34m(\u001B[0m\u001B[0mname_or_buffer\u001B[0m\u001B[0;34m,\u001B[0m \u001B[0mmode\u001B[0m\u001B[0;34m)\u001B[0m\u001B[0;34m\u001B[0m\u001B[0;34m\u001B[0m\u001B[0m\n\u001B[0m\u001B[1;32m    231\u001B[0m     \u001B[0;32melse\u001B[0m\u001B[0;34m:\u001B[0m\u001B[0;34m\u001B[0m\u001B[0;34m\u001B[0m\u001B[0m\n\u001B[1;32m    232\u001B[0m         \u001B[0;32mif\u001B[0m \u001B[0;34m'w'\u001B[0m \u001B[0;32min\u001B[0m \u001B[0mmode\u001B[0m\u001B[0;34m:\u001B[0m\u001B[0;34m\u001B[0m\u001B[0;34m\u001B[0m\u001B[0m\n",
      "\u001B[0;32m/usr/local/lib/python3.9/site-packages/torch/serialization.py\u001B[0m in \u001B[0;36m__init__\u001B[0;34m(self, name, mode)\u001B[0m\n\u001B[1;32m    209\u001B[0m \u001B[0;32mclass\u001B[0m \u001B[0m_open_file\u001B[0m\u001B[0;34m(\u001B[0m\u001B[0m_opener\u001B[0m\u001B[0;34m)\u001B[0m\u001B[0;34m:\u001B[0m\u001B[0;34m\u001B[0m\u001B[0;34m\u001B[0m\u001B[0m\n\u001B[1;32m    210\u001B[0m     \u001B[0;32mdef\u001B[0m \u001B[0m__init__\u001B[0m\u001B[0;34m(\u001B[0m\u001B[0mself\u001B[0m\u001B[0;34m,\u001B[0m \u001B[0mname\u001B[0m\u001B[0;34m,\u001B[0m \u001B[0mmode\u001B[0m\u001B[0;34m)\u001B[0m\u001B[0;34m:\u001B[0m\u001B[0;34m\u001B[0m\u001B[0;34m\u001B[0m\u001B[0m\n\u001B[0;32m--> 211\u001B[0;31m         \u001B[0msuper\u001B[0m\u001B[0;34m(\u001B[0m\u001B[0m_open_file\u001B[0m\u001B[0;34m,\u001B[0m \u001B[0mself\u001B[0m\u001B[0;34m)\u001B[0m\u001B[0;34m.\u001B[0m\u001B[0m__init__\u001B[0m\u001B[0;34m(\u001B[0m\u001B[0mopen\u001B[0m\u001B[0;34m(\u001B[0m\u001B[0mname\u001B[0m\u001B[0;34m,\u001B[0m \u001B[0mmode\u001B[0m\u001B[0;34m)\u001B[0m\u001B[0;34m)\u001B[0m\u001B[0;34m\u001B[0m\u001B[0;34m\u001B[0m\u001B[0m\n\u001B[0m\u001B[1;32m    212\u001B[0m \u001B[0;34m\u001B[0m\u001B[0m\n\u001B[1;32m    213\u001B[0m     \u001B[0;32mdef\u001B[0m \u001B[0m__exit__\u001B[0m\u001B[0;34m(\u001B[0m\u001B[0mself\u001B[0m\u001B[0;34m,\u001B[0m \u001B[0;34m*\u001B[0m\u001B[0margs\u001B[0m\u001B[0;34m)\u001B[0m\u001B[0;34m:\u001B[0m\u001B[0;34m\u001B[0m\u001B[0;34m\u001B[0m\u001B[0m\n",
      "\u001B[0;31mFileNotFoundError\u001B[0m: [Errno 2] No such file or directory: 'data/gen_bounds/9-17/mon_m20_d0_1.pt'"
     ]
    }
   ],
   "source": [
    "# Instantiate and load FC monDEQ model\n",
    "m = 20\n",
    "h = 40\n",
    "model = train.SingleFcNet(sp.MONPeacemanRachford,\n",
    "                        in_dim=28**2,\n",
    "                        out_dim=40,\n",
    "                        alpha=1.,\n",
    "                        max_iter=300,\n",
    "                        tol=1e-3,\n",
    "                        m=m)\n",
    "model.load_state_dict(torch.load('data/gen_bounds/9-17/mon_m20_d0_1.pt', map_location=torch.device('cpu')))\n",
    "model.eval()"
   ]
  },
  {
   "cell_type": "code",
   "execution_count": 35,
   "metadata": {},
   "outputs": [],
   "source": [
    "def n(t):\n",
    "    if isinstance(t, torch.Tensor):\n",
    "        return float(t.cpu().detach().numpy())\n",
    "    else:\n",
    "        return t\n",
    "\n",
    "def bound_term_2(h, c, beta, B, m, W_norm_sum, M, gamma, delta):\n",
    "    cp, cm = c + 1, c - 1\n",
    "    c2 = gamma / 4 / beta\n",
    "    inner = 2 * beta ** 3 * cp ** 3 * (1 + c2) * (B + 1) + 2 * m * beta * cp * (B + 1) * cm ** 2 + m ** 2 * cm ** 3\n",
    "    num = 16 * h * np.log(24 * h) * inner ** 2\n",
    "    num_1 = num * W_norm_sum / (gamma ** 2 * m ** 4 * cm ** 6 * (M - 1))\n",
    "    num_2 = np.log(3 * M ** 1.5 / c / delta)\n",
    "    return 4 * torch.sqrt(num_1 + num_2 / (M - 1))\n",
    "\n",
    "\n",
    "def monW(model):\n",
    "    lin_mod = model.mon.linear_module\n",
    "    m = lin_mod.m\n",
    "    A = lin_mod.A0.weight\n",
    "    B = lin_mod.B0.weight\n",
    "    W = (1 - m) * cuda(torch.eye(A.shape[1])) - A.T @ A + B - B.T\n",
    "    return W\n",
    "\n",
    "def W_norm_sum(model, W_init):\n",
    "    A = model.mon.linear_module.A0.weight\n",
    "    B = model.mon.linear_module.B0.weight\n",
    "    U = model.mon.linear_module.U.weight - W_init['U']\n",
    "    b = model.mon.linear_module.U.bias - W_init['b']\n",
    "    Wo = model.Wout.weight - W_init['Wo']\n",
    "    bo = model.Wout.bias - W_init['bo']\n",
    "    print(\"F_norms\\n\\t\", [n(torch.norm(x) ** 2) for x in [A, B, U, b, Wo, bo]])\n",
    "    return sum([torch.norm(x) ** 2 for x in [A, B, U, b, Wo, bo]])\n",
    "\n",
    "def beta(model):\n",
    "    lin_mod = model.mon.linear_module\n",
    "    U = lin_mod.U.weight\n",
    "    b = lin_mod.U.bias\n",
    "    Wo = model.Wout.weight\n",
    "    bo = model.Wout.bias\n",
    "    A = model.mon.linear_module.A0.weight\n",
    "    B = model.mon.linear_module.B0.weight\n",
    "    try:\n",
    "        norms = [torch.norm(b),\n",
    "                 # torch.norm(bo),\n",
    "                 torch.max(torch.svd(U)[1]),\n",
    "                 torch.max(torch.svd(Wo)[1]),\n",
    "                 torch.max(torch.svd(A)[1]),\n",
    "        ]\n",
    "        print(\"l2_norms\\n\\t\", [n(norm) for norm in norms])\n",
    "        return max(norms)\n",
    "    except:\n",
    "        return 0"
   ]
  },
  {
   "cell_type": "code",
   "execution_count": 36,
   "metadata": {},
   "outputs": [
    {
     "name": "stdout",
     "output_type": "stream",
     "text": [
      "F_norms\n",
      "\t [8.780768394470215, 39.16813278198242, 1560.82177734375, 0.0, 1599.3623046875, 0.0]\n",
      "W_norm_sum tensor(3208.1328, grad_fn=<AddBackward0>)\n",
      "l2_norms\n",
      "\t [0.0, 14.334519386291504, 17.337421417236328, 1.0733709335327148]\n",
      "beta tensor(17.3374, grad_fn=<MaxBackward1>)\n",
      "tensor(37761.9141, grad_fn=<MulBackward0>)\n"
     ]
    }
   ],
   "source": [
    "M = 4096\n",
    "gamma=10\n",
    "delta=0.1\n",
    "c=.0001\n",
    "B=50\n",
    "W_init={k:0 for k in ['W','Wo','b','bo','U']}\n",
    "lin_mod = model.mon.linear_module\n",
    "W_norm_sum_val = W_norm_sum(model, W_init)\n",
    "print(\"W_norm_sum\", W_norm_sum_val)\n",
    "beta_val = beta(model)\n",
    "print(\"beta\", beta_val)\n",
    "b = bound_term_2(h, c, beta_val, B, m, W_norm_sum_val, M, gamma, delta)\n",
    "print(b)            "
   ]
  },
  {
   "cell_type": "code",
   "execution_count": null,
   "metadata": {},
   "outputs": [],
   "source": []
  }
 ],
 "metadata": {
  "kernelspec": {
   "display_name": "Python 3",
   "language": "python",
   "name": "python3"
  },
  "language_info": {
   "codemirror_mode": {
    "name": "ipython",
    "version": 3
   },
   "file_extension": ".py",
   "mimetype": "text/x-python",
   "name": "python",
   "nbconvert_exporter": "python",
   "pygments_lexer": "ipython3",
   "version": "3.9.1"
  }
 },
 "nbformat": 4,
 "nbformat_minor": 4
}