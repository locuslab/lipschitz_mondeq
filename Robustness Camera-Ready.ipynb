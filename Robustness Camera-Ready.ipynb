{
 "cells": [
  {
   "cell_type": "code",
   "execution_count": 1,
   "metadata": {},
   "outputs": [],
   "source": [
    "import torch\n",
    "import numpy as np\n",
    "import foolbox as fb\n",
    "import itertools as it\n",
    "\n",
    "import sys\n",
    "sys.path.append(\"monotone_op_net\")\n",
    "import train\n",
    "import splitting as sp\n",
    "\n",
    "import torch.nn as nn\n",
    "from matplotlib import pyplot as plt\n",
    "%matplotlib inline"
   ]
  },
  {
   "cell_type": "markdown",
   "metadata": {},
   "source": [
    "<h2> Load FC monDEQ model trained on MNIST"
   ]
  },
  {
   "cell_type": "code",
   "execution_count": 34,
   "metadata": {},
   "outputs": [
    {
     "name": "stdout",
     "output_type": "stream",
     "text": [
      "monDEQ test error = 0.044\n"
     ]
    }
   ],
   "source": [
    "# MNIST Dataloaders\n",
    "trainLoader, testLoader = train.mnist_loaders(train_batch_size=128, test_batch_size=500)\n",
    "def cuda(tensor):\n",
    "    if 0:\n",
    "        return tensor.cuda()\n",
    "    else:\n",
    "        return tensor\n",
    "\n",
    "# Instantiate and load monDEQ model\n",
    "m = 20\n",
    "h = 40\n",
    "model = train.SingleFcNet(sp.MONPeacemanRachford,\n",
    "                        in_dim=28**2,\n",
    "                        out_dim=h,\n",
    "                        alpha=1.0,\n",
    "                        max_iter=300,\n",
    "                        tol=1e-5,\n",
    "                        m=m)\n",
    "\n",
    "model.load_state_dict(torch.load(\"models/mon_h40_m20.0.pt\", map_location=torch.device('cpu')))\n",
    "model.eval()\n",
    "\n",
    "with torch.no_grad():\n",
    "    total_cnt = 0\n",
    "    correct = 0\n",
    "    for batch in testLoader:\n",
    "        data, target = cuda(batch[0]), cuda(batch[1])\n",
    "        preds = model(data)\n",
    "        target = target.numpy()\n",
    "        preds = preds.numpy()\n",
    "        correct += np.sum(np.equal(np.argmax(preds, axis=1), target).astype(int))\n",
    "        total_cnt += len(target)\n",
    "print(\"monDEQ test error = %.3f\" % (1-correct / total_cnt))"
   ]
  },
  {
   "cell_type": "code",
   "execution_count": 16,
   "metadata": {},
   "outputs": [
    {
     "name": "stdout",
     "output_type": "stream",
     "text": [
      "L = 3.83663330078125\n",
      "Eps = 0.032\n",
      "Eps = 0.101\n",
      "Eps = 0.169\n",
      "Eps = 0.238\n",
      "Eps = 0.307\n",
      "Eps = 0.375\n",
      "Eps = 0.444\n",
      "Eps = 0.512\n",
      "Eps = 0.581\n",
      "Eps = 0.649\n"
     ]
    }
   ],
   "source": [
    "# Compute certified robustness on a range of \\epsilon values\n",
    "L = np.linalg.norm(model.Wout.weight.detach(),ord=2) * \\\n",
    "    np.linalg.norm(model.mon.linear_module.U.weight.detach(),ord=2) / m # Lipschitz constant of monDEQ\n",
    "print(\"L =\", L)\n",
    "num = 10\n",
    "epsilons = np.linspace(0.01, 0.2, num=num)\n",
    "epsilons = epsilons / 0.3081 # Scaling due to mean-std normalization in MNIST dataloader\n",
    "\n",
    "acc_list_mon = []\n",
    "m_list = []\n",
    "with torch.no_grad():\n",
    "    for eps in epsilons:\n",
    "        print(\"Eps = %.3f\" % eps)\n",
    "        C = L * eps\n",
    "        cnt = 0\n",
    "        total_cnt = 0\n",
    "        for batch in testLoader:\n",
    "            data, target = cuda(batch[0]), cuda(batch[1])\n",
    "            preds = model(data)\n",
    "            preds = preds.numpy()\n",
    "            target = target.numpy()\n",
    "            for i in range(len(target)):\n",
    "                if np.argmax(preds[i, :]) == target[i]:\n",
    "                    second = preds[i, np.argsort(-preds[i, :])[1]]\n",
    "                    first = preds[i, np.argsort(-preds[i, :])[0]]\n",
    "                    margin = first - second\n",
    "                    m_list.append(margin)\n",
    "                    if C <= margin/2: # check if condition satisfied for certified robustness\n",
    "                        cnt += 1\n",
    "            total_cnt += len(target)\n",
    "        acc_list_mon.append(cnt/total_cnt)"
   ]
  },
  {
   "cell_type": "markdown",
   "metadata": {},
   "source": [
    "<h2> Load DNN model trained on MNIST"
   ]
  },
  {
   "cell_type": "code",
   "execution_count": 29,
   "metadata": {},
   "outputs": [
    {
     "name": "stdout",
     "output_type": "stream",
     "text": [
      "DNN test error = 0.029\n"
     ]
    }
   ],
   "source": [
    "# Instantiate and load DNN model\n",
    "d = 3\n",
    "h = 40\n",
    "model = nn.Sequential(nn.Flatten(),\n",
    "                              nn.Linear(784, h),nn.ReLU(),\n",
    "                              *it.chain(*[[nn.Linear(h,h),nn.ReLU()] for _ in range(d-2)]),\n",
    "                              nn.Linear(h,10))\n",
    "model.load_state_dict(torch.load(\"models/dnn_d3.pt\", map_location=torch.device('cpu')))\n",
    "model.eval()\n",
    "\n",
    "with torch.no_grad():\n",
    "    total_cnt = 0\n",
    "    correct = 0\n",
    "    for batch in testLoader:\n",
    "        data, target = cuda(batch[0]), cuda(batch[1])\n",
    "        preds = model(data)\n",
    "        target = target.numpy()\n",
    "        preds = preds.numpy()\n",
    "        correct += np.sum(np.equal(np.argmax(preds, axis=1), target).astype(int))\n",
    "        total_cnt += len(target)\n",
    "print(\"DNN test error = %.3f\" % (1-correct / total_cnt))"
   ]
  },
  {
   "cell_type": "code",
   "execution_count": 27,
   "metadata": {},
   "outputs": [
    {
     "name": "stdout",
     "output_type": "stream",
     "text": [
      "Eps = 0.032\n",
      "Eps = 0.101\n",
      "Eps = 0.169\n",
      "Eps = 0.238\n",
      "Eps = 0.307\n",
      "Eps = 0.375\n",
      "Eps = 0.444\n",
      "Eps = 0.512\n",
      "Eps = 0.581\n",
      "Eps = 0.649\n"
     ]
    }
   ],
   "source": [
    "num = 10\n",
    "epsilons = np.linspace(0.01, 0.2, num=num)\n",
    "epsilons = epsilons / 0.3081\n",
    "L = 14.146 # As computed by SDP-Neuron method in Fazylab et al. 2019\n",
    "acc_list_dnn = []\n",
    "m_list = []\n",
    "with torch.no_grad():\n",
    "    for eps in epsilons:\n",
    "        print(\"Eps = %.3f\" % eps)\n",
    "        C = L * eps\n",
    "        cnt = 0\n",
    "        total_cnt = 0\n",
    "        for batch in testLoader:\n",
    "            data, target = cuda(batch[0]), cuda(batch[1])\n",
    "            preds = model(data)\n",
    "            preds = preds.numpy()\n",
    "            target = target.numpy()\n",
    "            for i in range(len(target)):\n",
    "                if np.argmax(preds[i, :]) == target[i]:\n",
    "                    second = preds[i, np.argsort(-preds[i, :])[1]]\n",
    "                    first = preds[i, np.argsort(-preds[i, :])[0]]\n",
    "                    margin = first - second\n",
    "                    m_list.append(margin)\n",
    "                    if C <= margin/2:\n",
    "                        cnt += 1\n",
    "            total_cnt += len(target)\n",
    "        acc_list_dnn.append(cnt/total_cnt)"
   ]
  },
  {
   "cell_type": "code",
   "execution_count": 33,
   "metadata": {
    "scrolled": true
   },
   "outputs": [
    {
     "data": {
      "text/plain": [
       "<matplotlib.legend.Legend at 0x125bcfc10>"
      ]
     },
     "execution_count": 33,
     "metadata": {},
     "output_type": "execute_result"
    },
    {
     "data": {
      "image/png": "[encoded data removed]",
      "text/plain": [
       "<Figure size 432x288 with 1 Axes>"
      ]
     },
     "metadata": {
      "needs_background": "light"
     },
     "output_type": "display_data"
    }
   ],
   "source": [
    "plt.rcParams[\"mathtext.fontset\"] = \"cm\"\n",
    "plt.plot(epsilons * 0.3081, acc_list_dnn, label=\"DNN d=3 L=14.146\")\n",
    "plt.plot(epsilons * 0.3081, acc_list_mon, label=\"monDEQ m=20, L=3.83\")\n",
    "plt.xlabel(\"$\\epsilon$\", fontsize=16)\n",
    "plt.ylabel(\"Certified Robust Test Accuracy\", fontsize=14)\n",
    "plt.ylim(-0.1, 1)\n",
    "plt.legend(bbox_to_anchor=(0.5, -0.35), loc='lower center', fontsize=12, ncol=2)"
   ]
  },
  {
   "cell_type": "markdown",
   "metadata": {},
   "source": [
    "<h2> Validating Robustness of monDEQs against PGD attacks"
   ]
  },
  {
   "cell_type": "code",
   "execution_count": 4,
   "metadata": {},
   "outputs": [
    {
     "data": {
      "text/plain": [
       "SingleFcNet(\n",
       "  (mon): MONPeacemanRachford(\n",
       "    (linear_module): MONSingleFc(\n",
       "      (U): Linear(in_features=784, out_features=40, bias=True)\n",
       "      (A): Linear(in_features=40, out_features=40, bias=False)\n",
       "      (B): Linear(in_features=40, out_features=40, bias=False)\n",
       "    )\n",
       "    (nonlin_module): MONReLU()\n",
       "  )\n",
       "  (Wout): Linear(in_features=40, out_features=10, bias=True)\n",
       ")"
      ]
     },
     "execution_count": 4,
     "metadata": {},
     "output_type": "execute_result"
    }
   ],
   "source": [
    "# Load monDEQ model\n",
    "m = 20\n",
    "h = 40\n",
    "model = train.SingleFcNet(sp.MONPeacemanRachford,\n",
    "                        in_dim=28**2,\n",
    "                        out_dim=h,\n",
    "                        alpha=1.0,\n",
    "                        max_iter=300,\n",
    "                        tol=1e-5,\n",
    "                        m=m)\n",
    "\n",
    "model.load_state_dict(torch.load(\"models/mon_h40_m20.0.pt\", map_location=torch.device('cpu')))\n",
    "model.eval()"
   ]
  },
  {
   "cell_type": "code",
   "execution_count": 8,
   "metadata": {},
   "outputs": [
    {
     "name": "stdout",
     "output_type": "stream",
     "text": [
      "[0.32456994 0.64913989 0.97370983 1.29827978 1.62284972 1.94741967\n",
      " 2.27198961 2.59655956 2.9211295  3.24569945 3.57026939 3.89483934\n",
      " 4.21940928 4.54397923 4.86854917]\n",
      "19\r"
     ]
    }
   ],
   "source": [
    "trainLoader, testLoader = train.mnist_loaders(train_batch_size=128, test_batch_size=500)\n",
    "\n",
    "# Run PGD attack (Foolbox tool) on monDEQ for a range of \\epsilon values\n",
    "bounds = (-0.424212917883804, 2.82148653034729)\n",
    "fmodel = fb.PyTorchModel(model, bounds=bounds)\n",
    "attack = fb.attacks.L2ProjectedGradientDescentAttack()\n",
    "num = 15\n",
    "epsilons = np.linspace(0.1, 1.5, num=num)\n",
    "epsilons = epsilons / 0.3081\n",
    "print(epsilons)\n",
    "robust_accuracy = np.zeros(num)\n",
    "total_cnt = 0\n",
    "for i, batch in enumerate(testLoader):\n",
    "    print(i, end=\"\\r\")\n",
    "    data, target = cuda(batch[0]), cuda(batch[1])\n",
    "    raw, clipped, is_adv = attack(fmodel, data, target, epsilons=epsilons)\n",
    "    is_adv = is_adv.type(torch.FloatTensor)\n",
    "    ra = 1 - is_adv.mean(axis=-1).numpy()\n",
    "    ra = ra * len(target)\n",
    "    robust_accuracy += ra\n",
    "    total_cnt += len(target)"
   ]
  },
  {
   "cell_type": "code",
   "execution_count": 10,
   "metadata": {},
   "outputs": [
    {
     "name": "stdout",
     "output_type": "stream",
     "text": [
      "[0.9587     0.9387     0.9138     0.8797     0.8344     0.7793\n",
      " 0.70680001 0.63080001 0.5447     0.47009999 0.39850001 0.3373\n",
      " 0.28029999 0.2333     0.1885    ]\n"
     ]
    }
   ],
   "source": [
    "# Load DNN model\n",
    "h = 40\n",
    "d = 10\n",
    "model = nn.Sequential(nn.Flatten(),\n",
    "                              nn.Linear(784, h),nn.ReLU(),\n",
    "                              *it.chain(*[[nn.Linear(h,h),nn.ReLU()] for _ in range(d-2)]),\n",
    "                              nn.Linear(h,10))\n",
    "model.load_state_dict(torch.load(\"models/dnn_d10.pt\", map_location=torch.device('cpu')))\n",
    "model.eval()\n",
    "\n",
    "# Run PGD attack (Foolbox tool) on DNN for a range of \\epsilon values\n",
    "bounds = (-0.424212917883804, 2.82148653034729)\n",
    "fmodel = fb.PyTorchModel(model, bounds=bounds)\n",
    "\n",
    "attack = fb.attacks.L2ProjectedGradientDescentAttack()\n",
    "\n",
    "num = 15\n",
    "epsilons = np.linspace(0.1, 1.5, num=num)\n",
    "epsilons = epsilons / 0.3081\n",
    "robust_accuracy_dnn = np.zeros(num)\n",
    "total_cnt = 0\n",
    "\n",
    "for i, batch in enumerate(testLoader):\n",
    "    print(i, end=\"\\r\")\n",
    "    data, target = cuda(batch[0]), cuda(batch[1])\n",
    "    raw, clipped, is_adv = attack(fmodel, data, target, epsilons=epsilons)\n",
    "    is_adv = is_adv.type(torch.FloatTensor)\n",
    "    ra = 1 - is_adv.mean(axis=-1).numpy()\n",
    "    ra = ra * len(target)\n",
    "    robust_accuracy_dnn += ra\n",
    "    total_cnt += len(target)\n",
    "robust_accuracy_dnn /= total_cnt\n",
    "print(robust_accuracy_dnn)"
   ]
  },
  {
   "cell_type": "code",
   "execution_count": 12,
   "metadata": {},
   "outputs": [
    {
     "data": {
      "text/plain": [
       "<matplotlib.legend.Legend at 0x125adb9a0>"
      ]
     },
     "execution_count": 12,
     "metadata": {},
     "output_type": "execute_result"
    },
    {
     "data": {
      "image/png": "[encoded data removed]",
      "text/plain": [
       "<Figure size 432x288 with 1 Axes>"
      ]
     },
     "metadata": {
      "needs_background": "light"
     },
     "output_type": "display_data"
    }
   ],
   "source": [
    "epsilons = np.linspace(0.1, 1.5, num=num)\n",
    "\n",
    "plt.rcParams[\"mathtext.fontset\"] = \"cm\"\n",
    "plt.plot(epsilons, robust_accuracy_dnn, label=\"DNN d=10\")\n",
    "plt.plot(epsilons, robust_accuracy, label=\"monDEQ m=20\")\n",
    "plt.ylabel(\"PGD Attack Test Accuracy\", fontsize=14)\n",
    "plt.xlabel(\"$\\epsilon$\", fontsize=16)\n",
    "# plt.legend(fontsize=12)\n",
    "plt.legend(bbox_to_anchor=(0.5, -0.3), loc='lower center', fontsize=12, ncol=2)"
   ]
  }
 ],
 "metadata": {
  "kernelspec": {
   "display_name": "Python 3",
   "language": "python",
   "name": "python3"
  },
  "language_info": {
   "codemirror_mode": {
    "name": "ipython",
    "version": 3
   },
   "file_extension": ".py",
   "mimetype": "text/x-python",
   "name": "python",
   "nbconvert_exporter": "python",
   "pygments_lexer": "ipython3",
   "version": "3.8.5"
  }
 },
 "nbformat": 4,
 "nbformat_minor": 4
}