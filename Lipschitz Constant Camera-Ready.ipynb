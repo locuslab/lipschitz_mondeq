{
 "cells": [
  {
   "cell_type": "code",
   "execution_count": 1,
   "metadata": {},
   "outputs": [],
   "source": [
    "import torch\n",
    "import numpy as np\n",
    "import sys\n",
    "\n",
    "sys.path.append(\"monotone_op_net\")\n",
    "import train\n",
    "import splitting as sp\n",
    "import mon\n",
    "\n",
    "%matplotlib inline"
   ]
  },
  {
   "cell_type": "code",
   "execution_count": null,
   "metadata": {},
   "outputs": [],
   "source": [
    "# MNIST Dataloaders\n",
    "trainLoader, testLoader = train.mnist_loaders(train_batch_size=128, test_batch_size=500)\n",
    "def cuda(tensor):\n",
    "    if 0:\n",
    "        return tensor.cuda()\n",
    "    else:\n",
    "        return tensor"
   ]
  },
  {
   "cell_type": "markdown",
   "metadata": {},
   "source": [
    "<h2> Lipschitz constant of FC monDEQ model"
   ]
  },
  {
   "cell_type": "code",
   "execution_count": 3,
   "metadata": {},
   "outputs": [
    {
     "name": "stdout",
     "output_type": "stream",
     "text": [
      "monDEQ test error = 0.044\n"
     ]
    }
   ],
   "source": [
    "# Instantiate and load FC monDEQ model\n",
    "m = 20\n",
    "h = 40\n",
    "model = train.SingleFcNet(sp.MONPeacemanRachford,\n",
    "                        in_dim=28**2,\n",
    "                        out_dim=h,\n",
    "                        alpha=1.0,\n",
    "                        max_iter=300,\n",
    "                        tol=1e-5,\n",
    "                        m=m)\n",
    "\n",
    "model.load_state_dict(torch.load(\"models/mon_h40_m20.0.pt\", map_location=torch.device('cpu')))\n",
    "model.eval()\n",
    "\n",
    "with torch.no_grad():\n",
    "    total_cnt = 0\n",
    "    correct = 0\n",
    "    for batch in testLoader:\n",
    "        data, target = cuda(batch[0]), cuda(batch[1])\n",
    "        preds = model(data)\n",
    "        target = target.numpy()\n",
    "        preds = preds.numpy()\n",
    "        correct += np.sum(np.equal(np.argmax(preds, axis=1), target).astype(int))\n",
    "        total_cnt += len(target)\n",
    "print(\"monDEQ test error = %.3f\" % (1-correct / total_cnt))"
   ]
  },
  {
   "cell_type": "code",
   "execution_count": 5,
   "metadata": {},
   "outputs": [
    {
     "data": {
      "text/plain": [
       "3.83663330078125"
      ]
     },
     "execution_count": 5,
     "metadata": {},
     "output_type": "execute_result"
    }
   ],
   "source": [
    "# Compute Lipschitz Constant of monDEQ as given in Theorem 1\n",
    "np.linalg.norm(model.Wout.weight.detach(),ord=2) * \\\n",
    "np.linalg.norm(model.mon.linear_module.U.weight.detach(),ord=2) / m"
   ]
  },
  {
   "cell_type": "markdown",
   "metadata": {},
   "source": [
    "<h2> Lipschitz constant of Single Conv monDEQ model"
   ]
  },
  {
   "cell_type": "code",
   "execution_count": 6,
   "metadata": {},
   "outputs": [
    {
     "data": {
      "text/plain": [
       "SingleConvNet(\n",
       "  (mon): MONPeacemanRachford(\n",
       "    (linear_module): MONSingleConv(\n",
       "      (U): Conv2d(1, 128, kernel_size=(3, 3), stride=(1, 1))\n",
       "      (A): Conv2d(128, 128, kernel_size=(3, 3), stride=(1, 1), bias=False)\n",
       "      (B): Conv2d(128, 128, kernel_size=(3, 3), stride=(1, 1), bias=False)\n",
       "    )\n",
       "    (nonlin_module): MONBorderReLU()\n",
       "  )\n",
       "  (Wout): Linear(in_features=6272, out_features=10, bias=True)\n",
       ")"
      ]
     },
     "execution_count": 6,
     "metadata": {},
     "output_type": "execute_result"
    }
   ],
   "source": [
    "# Instantiate and load single conv monDEQ model\n",
    "m = 20\n",
    "model = train.SingleConvNet(sp.MONPeacemanRachford,\n",
    "                        in_dim=28,\n",
    "                        in_channels=1,\n",
    "                        out_channels=128,\n",
    "                        alpha=1.0,\n",
    "                        max_iter=300,\n",
    "                        tol=1e-8,\n",
    "                        m=m)\n",
    "model.load_state_dict(torch.load(\"models/mon_1c_m20.0.pt\",\n",
    "                                 map_location=torch.device('cpu')))\n",
    "model.eval()"
   ]
  },
  {
   "cell_type": "code",
   "execution_count": 7,
   "metadata": {},
   "outputs": [
    {
     "data": {
      "text/plain": [
       "tensor(48.5502, grad_fn=<DivBackward0>)"
      ]
     },
     "execution_count": 7,
     "metadata": {},
     "output_type": "execute_result"
    }
   ],
   "source": [
    "# Compute Lipschitz Constant of monDEQ as given in Theorem 1\n",
    "Ufft = mon.init_fft_conv(model.mon.linear_module.U.weight, (28, 28))\n",
    "np.linalg.norm(model.Wout.weight.detach(),ord=2) * \\\n",
    "torch.max(torch.svd(Ufft)[1]) / m"
   ]
  },
  {
   "cell_type": "markdown",
   "metadata": {},
   "source": [
    "<h2> Lipschitz constant of Multi Conv monDEQ model"
   ]
  },
  {
   "cell_type": "code",
   "execution_count": 11,
   "metadata": {},
   "outputs": [
    {
     "data": {
      "text/plain": [
       "MultiConvNet(\n",
       "  (mon): MONPeacemanRachford(\n",
       "    (linear_module): MONMultiConv(\n",
       "      (U): Conv2d(1, 32, kernel_size=(3, 3), stride=(1, 1))\n",
       "      (A0): ModuleList(\n",
       "        (0): Conv2d(32, 32, kernel_size=(3, 3), stride=(1, 1), bias=False)\n",
       "        (1): Conv2d(64, 64, kernel_size=(3, 3), stride=(1, 1), bias=False)\n",
       "        (2): Conv2d(128, 128, kernel_size=(3, 3), stride=(1, 1), bias=False)\n",
       "      )\n",
       "      (B0): ModuleList(\n",
       "        (0): Conv2d(32, 32, kernel_size=(3, 3), stride=(1, 1), bias=False)\n",
       "        (1): Conv2d(64, 64, kernel_size=(3, 3), stride=(1, 1), bias=False)\n",
       "        (2): Conv2d(128, 128, kernel_size=(3, 3), stride=(1, 1), bias=False)\n",
       "      )\n",
       "      (A_n0): ModuleList(\n",
       "        (0): Conv2d(32, 64, kernel_size=(3, 3), stride=(2, 2), bias=False)\n",
       "        (1): Conv2d(64, 128, kernel_size=(3, 3), stride=(2, 2), bias=False)\n",
       "      )\n",
       "      (g): ParameterList(\n",
       "          (0): Parameter containing: [torch.FloatTensor of size ]\n",
       "          (1): Parameter containing: [torch.FloatTensor of size ]\n",
       "          (2): Parameter containing: [torch.FloatTensor of size ]\n",
       "      )\n",
       "      (gn): ParameterList(\n",
       "          (0): Parameter containing: [torch.FloatTensor of size ]\n",
       "          (1): Parameter containing: [torch.FloatTensor of size ]\n",
       "      )\n",
       "      (h): ParameterList(\n",
       "          (0): Parameter containing: [torch.FloatTensor of size ]\n",
       "          (1): Parameter containing: [torch.FloatTensor of size ]\n",
       "          (2): Parameter containing: [torch.FloatTensor of size ]\n",
       "      )\n",
       "    )\n",
       "    (nonlin_module): MONBorderReLU()\n",
       "  )\n",
       "  (Wout): Linear(in_features=10368, out_features=10, bias=True)\n",
       ")"
      ]
     },
     "execution_count": 11,
     "metadata": {},
     "output_type": "execute_result"
    }
   ],
   "source": [
    "# Instantiate and load multi conv monDEQ model\n",
    "m = 20\n",
    "model = train.MultiConvNet(sp.MONPeacemanRachford,\n",
    "                        in_dim=28,\n",
    "                        in_channels=1,\n",
    "                        conv_sizes=(32, 64, 128),\n",
    "                        alpha=2.0,\n",
    "                        max_iter=300,\n",
    "                        tol=1e-8,\n",
    "                        m=m)\n",
    "\n",
    "model.load_state_dict(torch.load(\"models/mon_mc_m20.0.pt\",\n",
    "                                 map_location=torch.device('cpu')))\n",
    "model.eval()"
   ]
  },
  {
   "cell_type": "code",
   "execution_count": 12,
   "metadata": {},
   "outputs": [
    {
     "data": {
      "text/plain": [
       "tensor(198.2189, grad_fn=<DivBackward0>)"
      ]
     },
     "execution_count": 12,
     "metadata": {},
     "output_type": "execute_result"
    }
   ],
   "source": [
    "# Compute Lipschitz Constant of monDEQ as given in Theorem 1\n",
    "Ufft = mon.init_fft_conv(model.mon.linear_module.U.weight, (28, 28))\n",
    "np.linalg.norm(model.Wout.weight.detach(),ord=2) * \\\n",
    "torch.max(torch.svd(Ufft)[1]) / m"
   ]
  }
 ],
 "metadata": {
  "kernelspec": {
   "display_name": "Python 3",
   "language": "python",
   "name": "python3"
  },
  "language_info": {
   "codemirror_mode": {
    "name": "ipython",
    "version": 3
   },
   "file_extension": ".py",
   "mimetype": "text/x-python",
   "name": "python",
   "nbconvert_exporter": "python",
   "pygments_lexer": "ipython3",
   "version": "3.8.5"
  }
 },
 "nbformat": 4,
 "nbformat_minor": 4
}